{
 "cells": [
  {
   "cell_type": "markdown",
   "id": "5ba9dd4a",
   "metadata": {},
   "source": [
    "# Scientific Programming with Python - Exercise 3"
   ]
  },
  {
   "cell_type": "code",
   "execution_count": null,
   "id": "45c8b788",
   "metadata": {},
   "outputs": [],
   "source": [
    "import pandas as pd\n",
    "import numpy as np"
   ]
  },
  {
   "cell_type": "code",
   "execution_count": null,
   "id": "5b18f724",
   "metadata": {},
   "outputs": [],
   "source": [
    "mobiles = pd.read_csv('/mnt/data/mobile_price_1.csv', index_col='id')"
   ]
  },
  {
   "cell_type": "code",
   "execution_count": null,
   "id": "e22f555a",
   "metadata": {},
   "outputs": [],
   "source": [
    "mobiles['resolution'] = mobiles['px_height'] * mobiles['px_width']"
   ]
  },
  {
   "cell_type": "code",
   "execution_count": null,
   "id": "52f7dc72",
   "metadata": {},
   "outputs": [],
   "source": [
    "mobiles['DPI_w'] = mobiles['px_width'] / (mobiles['sc_w'] / 2.54)\n",
    "mobiles.loc[~np.isfinite(mobiles['DPI_w']), 'DPI_w'] = np.nan"
   ]
  },
  {
   "cell_type": "code",
   "execution_count": null,
   "id": "d976baeb",
   "metadata": {},
   "outputs": [],
   "source": [
    "mobiles['call_ratio'] = mobiles['battery_power'] / mobiles['talk_time']\n",
    "mobiles.loc[~np.isfinite(mobiles['call_ratio']), 'call_ratio'] = np.nan"
   ]
  },
  {
   "cell_type": "code",
   "execution_count": null,
   "id": "37cce7ae",
   "metadata": {},
   "outputs": [],
   "source": [
    "mobiles['memory'] = mobiles['memory'] / 1024"
   ]
  },
  {
   "cell_type": "code",
   "execution_count": null,
   "id": "9b40403b",
   "metadata": {},
   "outputs": [],
   "source": [
    "describe_output = mobiles.describe()"
   ]
  },
  {
   "cell_type": "code",
   "execution_count": null,
   "id": "cd8af510",
   "metadata": {},
   "outputs": [],
   "source": [
    "mobiles['speed'] = pd.Categorical(mobiles['speed'], categories=['low', 'medium', 'high'], ordered=True)"
   ]
  },
  {
   "cell_type": "code",
   "execution_count": null,
   "id": "a2089a72",
   "metadata": {},
   "outputs": [],
   "source": [
    "mobiles['screen'] = pd.Categorical(mobiles['screen'], categories=['Touch', 'LCD'], ordered=False)"
   ]
  },
  {
   "cell_type": "code",
   "execution_count": null,
   "id": "95a1e523",
   "metadata": {},
   "outputs": [],
   "source": [
    "mobiles['cores'] = pd.Categorical(mobiles['cores'], categories=['single', 'dual', 'triple', 'quad', 'penta', 'hexa', 'hepta', 'octa'], ordered=True)"
   ]
  },
  {
   "cell_type": "code",
   "execution_count": null,
   "id": "0e687d03",
   "metadata": {},
   "outputs": [],
   "source": [
    "no_camera_count = len(mobiles[mobiles['f_camera'].isna() & mobiles['camera'].isna()])"
   ]
  },
  {
   "cell_type": "code",
   "execution_count": null,
   "id": "e20a67d7",
   "metadata": {},
   "outputs": [],
   "source": [
    "average_power = mobiles[(mobiles['sim'] == 'Single') & ((mobiles['camera'] > 12) | (mobiles['f_camera'] > 12))]['battery_power'].mean()"
   ]
  },
  {
   "cell_type": "code",
   "execution_count": null,
   "id": "84207886",
   "metadata": {},
   "outputs": [],
   "source": [
    "expensive_phone = mobiles[(mobiles['wifi'] == 'none') & (mobiles['screen'] == 'Touch') & (mobiles['mobile_wt'] > 145)].nlargest(1, 'price')"
   ]
  },
  {
   "cell_type": "code",
   "execution_count": null,
   "id": "e75f783d",
   "metadata": {},
   "outputs": [],
   "source": [
    "mobiles['bluetooth_binary'] = mobiles['bluetooth'].map({'Yes': 1, 'No': 0})\n",
    "mobiles['ram_quartile'] = pd.qcut(mobiles['ram'], 4, labels=False)\n",
    "pivot_table = mobiles.pivot_table(values='bluetooth_binary', index='gen', columns='ram_quartile', aggfunc='mean')"
   ]
  },
  {
   "cell_type": "code",
   "execution_count": null,
   "id": "31b345ac",
   "metadata": {},
   "outputs": [],
   "source": [
    "sampled_phones = mobiles[mobiles['speed'] == 'medium'].sample(frac=0.5).reset_index()\n",
    "sampled_columns = ['id', 'battery_power', 'ram', 'talk_time', 'bluetooth', 'cores', 'sim', 'memory', 'price']\n",
    "sampled_phones = sampled_phones[sampled_columns]"
   ]
  },
  {
   "cell_type": "code",
   "execution_count": null,
   "id": "096d12bd",
   "metadata": {},
   "outputs": [],
   "source": [
    "max_talk_time_phones = sampled_phones.nlargest(3, 'talk_time')\n",
    "max_talk_time_sum = max_talk_time_phones['talk_time'].sum()"
   ]
  }
 ],
 "metadata": {},
 "nbformat": 4,
 "nbformat_minor": 5
}
